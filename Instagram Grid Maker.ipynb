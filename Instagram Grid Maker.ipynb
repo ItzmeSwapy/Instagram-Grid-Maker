{
 "cells": [
  {
   "cell_type": "code",
   "execution_count": null,
   "metadata": {},
   "outputs": [],
   "source": [
    "from instabot import Bot \n",
    "bot = Bot() \n",
    "\n",
    "bot.login(username = \"imvickykumar999\", \n",
    "          password = \"***************\") \n",
    "\n",
    "bot.upload_photo(r\"C:\\Users\\Vicky Kumar\\Pictures\\paint\\vicky.png\", \n",
    "    caption = \"This photo is uploaded using instabot library of Python.\") "
   ]
  },
  {
   "cell_type": "code",
   "execution_count": null,
   "metadata": {},
   "outputs": [],
   "source": [
    "from PIL import Image \n",
    "im = Image.open(r\"C:\\Users\\Vicky Kumar\\Pictures\\Saved Pictures\\tum.jpg\") \n",
    "\n",
    "left = 155\n",
    "top = 65\n",
    "right = 360\n",
    "bottom = 270\n",
    "\n",
    "im1 = im.crop((left, top, right, bottom)) \n",
    "im1.show() "
   ]
  },
  {
   "cell_type": "code",
   "execution_count": null,
   "metadata": {},
   "outputs": [],
   "source": [
    "# !pip install image_slicer\n",
    "import image_slicer\n",
    "from PIL import Image\n",
    "\n",
    "path1 = r\"C:\\Users\\Vicky Kumar\\Pictures\\paint\\a.png\"\n",
    "path2 = r\"C:\\Users\\Vicky Kumar\\Pictures\\paint\\b.png\"\n",
    "im = Image.open(path1)\n",
    "\n",
    "if im.size[0] > im.size[1]:\n",
    "    side = im.size[1]\n",
    "else:\n",
    "    side = im.size[0]\n",
    "\n",
    "a = im.crop((im.size[0]/2-side/2, im.size[1]/2-side/2,\n",
    "             im.size[0]/2+side/2, im.size[1]/2+side/2))\n",
    "a.save(path2)\n",
    "\n",
    "n = int(input('\\nEnter n : '))\n",
    "grid = image_slicer.slice(path2, n*n)"
   ]
  },
  {
   "cell_type": "code",
   "execution_count": null,
   "metadata": {},
   "outputs": [],
   "source": [
    "import os\n",
    "loc = r'C:\\Users\\Vicky Kumar\\Pictures\\paint'\n",
    "index = int(input('\\nEnter index : ')) -1\n",
    "newpath = os.path.join(loc,str(grid[index]).split('- ')[1])[:-1]\n",
    "# os.startfile(newpath)"
   ]
  },
  {
   "cell_type": "code",
   "execution_count": null,
   "metadata": {},
   "outputs": [],
   "source": [
    "import os\n",
    "loc = r'C:\\Users\\Vicky Kumar\\Pictures\\paint'\n",
    "\n",
    "for i in range(len(grid)):\n",
    "    newpath = os.path.join(loc,str(grid[len(grid)-i-1]).split('- ')[1])[:-1]\n",
    "    print(newpath)"
   ]
  },
  {
   "cell_type": "code",
   "execution_count": null,
   "metadata": {},
   "outputs": [],
   "source": [
    "from instabot import Bot\n",
    "import os\n",
    "\n",
    "loc = r'C:\\Users\\Vicky Kumar\\Pictures\\paint'\n",
    "bot = Bot() \n",
    "\n",
    "bot.login(username = \"imvickykumar999\", \n",
    "          password = \"**************\") \n",
    "\n",
    "for i in range(len(grid)):\n",
    "    newpath = os.path.join(loc, str(grid[len(grid)-i-1]).split('- ')[1])[:-1]\n",
    "    print(newpath)\n",
    "    bot.upload_photo(newpath, \n",
    "    caption = \"This photo is uploaded using instabot library of Python.\") "
   ]
  },
  {
   "cell_type": "code",
   "execution_count": null,
   "metadata": {},
   "outputs": [],
   "source": [
    "import getpass\n",
    "p = getpass.getpass(prompt = 'Enter Your Password : ')\n",
    "type(p)"
   ]
  },
  {
   "cell_type": "code",
   "execution_count": null,
   "metadata": {},
   "outputs": [],
   "source": [
    "# ===========================(final project : insta grid maker)================================"
   ]
  },
  {
   "cell_type": "code",
   "execution_count": null,
   "metadata": {},
   "outputs": [],
   "source": [
    "# !pip install image_slicer\n",
    "import image_slicer, os, getpass\n",
    "from PIL import Image\n",
    "from instabot import Bot\n",
    "\n",
    "path1 = r\"C:\\Users\\Vicky Kumar\\Pictures\\instagrid\\vicky.png\"\n",
    "path2 = r\"C:\\Users\\Vicky Kumar\\Pictures\\instagrid\\cropped.png\"\n",
    "loc = r\"C:\\Users\\Vicky Kumar\\Pictures\\instagrid\"\n",
    "im = Image.open(path1)\n",
    "\n",
    "if im.size[0] > im.size[1]:\n",
    "    side = im.size[1]\n",
    "else:\n",
    "    side = im.size[0]\n",
    "\n",
    "a = im.crop((im.size[0]/2-side/2, im.size[1]/2-side/2,\n",
    "             im.size[0]/2+side/2, im.size[1]/2+side/2))\n",
    "a.save(path2)\n",
    "\n",
    "# n = int(input('\\nEnter n in (N x N) GRID : '))\n",
    "n=3\n",
    "grid = image_slicer.slice(path2, n*n)\n",
    "\n",
    "bot = Bot()\n",
    "# passwd = getpass.getpass(prompt = 'Enter Your Password : ')\n",
    "passwd = '*************'\n",
    "bot.login(username = \"imvickykumar999\", \n",
    "          password = passwd) \n",
    "\n",
    "cap = ['This grid image is uploaded using instabot library.',\n",
    "      'I have tried to code a Insta Grid Maker software.',\n",
    "      'Caption are appended in List.',\n",
    "      'Hope you Liked Insta Grid Maker Software Idea.',\n",
    "      'There is an .exe file of this Software, you should too run on your PC.',\n",
    "      'Just enter userid and password and select Photo.',\n",
    "      'It will automatically convert image into Central Crop Square.',\n",
    "      'Split into (N*N) seperate image and Upload on insta as Grid.',\n",
    "      '#insta_grid #python #automation']\n",
    "\n",
    "for i in range(len(grid)):\n",
    "    newpath = os.path.join(loc, str(grid[len(grid)-i-1]).split('- ')[1])[:-1]\n",
    "    print(newpath)\n",
    "    bot.upload_photo(newpath, caption = cap[i]) "
   ]
  },
  {
   "cell_type": "code",
   "execution_count": null,
   "metadata": {},
   "outputs": [],
   "source": [
    "# !pip install instapy-cli\n",
    "\n",
    "#Code\n",
    "from instapy_cli import client\n",
    "\n",
    "username = 'imvickykumar999' #your username\n",
    "password = passwd #your password \n",
    "image = newpath\n",
    "text = 'Here you can put your caption for the post'\n",
    "\n",
    "with client(username, password) as cli:\n",
    "    cli.upload(image, text)"
   ]
  },
  {
   "cell_type": "code",
   "execution_count": null,
   "metadata": {},
   "outputs": [],
   "source": [
    "import os\n",
    "loc = r'C:\\Users\\Vicky Kumar\\Pictures\\paint'\n",
    "loc1 = r'C:\\Users\\Vicky Kumar\\Pictures\\paint\\vicky.png'\n",
    "newpath = os.path.join(loc, 'vicky.png')\n",
    "print((loc1)==(newpath))\n",
    "print(newpath)"
   ]
  },
  {
   "cell_type": "code",
   "execution_count": null,
   "metadata": {},
   "outputs": [],
   "source": []
  }
 ],
 "metadata": {
  "kernelspec": {
   "display_name": "Python 3",
   "language": "python",
   "name": "python3"
  },
  "language_info": {
   "codemirror_mode": {
    "name": "ipython",
    "version": 3
   },
   "file_extension": ".py",
   "mimetype": "text/x-python",
   "name": "python",
   "nbconvert_exporter": "python",
   "pygments_lexer": "ipython3",
   "version": "3.7.4"
  }
 },
 "nbformat": 4,
 "nbformat_minor": 4
}
